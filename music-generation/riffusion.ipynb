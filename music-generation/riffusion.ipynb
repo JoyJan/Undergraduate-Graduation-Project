{
 "cells": [
  {
   "cell_type": "markdown",
   "metadata": {
    "id": "HK0XvGHcKeos"
   },
   "source": [
    "# riffusion colab demo\n",
    "\n",
    "Run [riffusion](https://www.riffusion.com/about) in a gradio demo with a colab host\n",
    "\n",
    "Riffusion project by [Seth Forsgren](https://twitter.com/sethforsgren) and [Hayk Martiros](https://github.com/hmartiro), colab notebook by [Jasper Gilley](https://twitter.com/0xjasper)\n",
    "\n",
    "Feel free to DM Jasper on Twitter if you have any problems with the notebook\n",
    "\n",
    "Some cool prompt ideas can be found at https://ai-art-wiki.com/wiki/Riffusion#Prompts"
   ]
  },
  {
   "cell_type": "code",
   "execution_count": 1,
   "metadata": {
    "id": "wtPb1LmTup-P"
   },
   "outputs": [
    {
     "name": "stdout",
     "output_type": "stream",
     "text": [
      "Thu Apr 11 17:17:02 2024       \n",
      "+---------------------------------------------------------------------------------------+\n",
      "| NVIDIA-SMI 532.10                 Driver Version: 532.10       CUDA Version: 12.1     |\n",
      "|-----------------------------------------+----------------------+----------------------+\n",
      "| GPU  Name                      TCC/WDDM | Bus-Id        Disp.A | Volatile Uncorr. ECC |\n",
      "| Fan  Temp  Perf            Pwr:Usage/Cap|         Memory-Usage | GPU-Util  Compute M. |\n",
      "|                                         |                      |               MIG M. |\n",
      "|=========================================+======================+======================|\n",
      "|   0  NVIDIA GeForce RTX 4050 L...  WDDM | 00000000:01:00.0  On |                  N/A |\n",
      "| N/A   38C    P5                4W /  N/A|   1537MiB /  6141MiB |      1%      Default |\n",
      "|                                         |                      |                  N/A |\n",
      "+-----------------------------------------+----------------------+----------------------+\n",
      "                                                                                         \n",
      "+---------------------------------------------------------------------------------------+\n",
      "| Processes:                                                                            |\n",
      "|  GPU   GI   CI        PID   Type   Process name                            GPU Memory |\n",
      "|        ID   ID                                                             Usage      |\n",
      "|=======================================================================================|\n",
      "|    0   N/A  N/A       956    C+G   ...5\\extracted\\runtime\\WeChatAppEx.exe    N/A      |\n",
      "|    0   N/A  N/A      6884    C+G   ...siveControlPanel\\SystemSettings.exe    N/A      |\n",
      "|    0   N/A  N/A      6976    C+G   ...oogle\\Chrome\\Application\\chrome.exe    N/A      |\n",
      "|    0   N/A  N/A     11112    C+G   C:\\Windows\\explorer.exe                   N/A      |\n",
      "|    0   N/A  N/A     11620    C+G   C:\\Program Files\\ToDesk\\ToDesk.exe        N/A      |\n",
      "|    0   N/A  N/A     12840    C+G   ...nt.CBS_cw5n1h2txyewy\\SearchHost.exe    N/A      |\n",
      "|    0   N/A  N/A     12864    C+G   ...2txyewy\\StartMenuExperienceHost.exe    N/A      |\n",
      "|    0   N/A  N/A     15212    C+G   ...Programs\\Microsoft VS Code\\Code.exe    N/A      |\n",
      "|    0   N/A  N/A     15528    C+G   ...GeForce Experience\\NVIDIA Share.exe    N/A      |\n",
      "|    0   N/A  N/A     16168    C+G   ...CBS_cw5n1h2txyewy\\TextInputHost.exe    N/A      |\n",
      "|    0   N/A  N/A     18632    C+G   ...AppData\\Local\\Feishu\\app\\Feishu.exe    N/A      |\n",
      "|    0   N/A  N/A     22404    C+G   ...m Files\\baidu\\infoflow\\infoflow.exe    N/A      |\n",
      "|    0   N/A  N/A     23196    C+G   ....0_x64__8wekyb3d8bbwe\\XboxPcApp.exe    N/A      |\n",
      "|    0   N/A  N/A     23324    C+G   ...5n1h2txyewy\\ShellExperienceHost.exe    N/A      |\n",
      "|    0   N/A  N/A     24388    C+G   ...GlobalPresenter\\GlobalPresenter.exe    N/A      |\n",
      "|    0   N/A  N/A     25640    C+G   ...2.0_x64__w2gh52qy24etm\\Nahimic3.exe    N/A      |\n",
      "|    0   N/A  N/A     26336    C+G   ...__8wekyb3d8bbwe\\WindowsTerminal.exe    N/A      |\n",
      "|    0   N/A  N/A     28644    C+G   ... Edition 2023.3.2\\bin\\pycharm64.exe    N/A      |\n",
      "|    0   N/A  N/A     35512    C+G   ...6417\\office6\\promecefpluginhost.exe    N/A      |\n",
      "|    0   N/A  N/A     39332    C+G   ...crosoft\\Edge\\Application\\msedge.exe    N/A      |\n",
      "+---------------------------------------------------------------------------------------+\n"
     ]
    }
   ],
   "source": [
    "!nvidia-smi"
   ]
  },
  {
   "cell_type": "code",
   "execution_count": 2,
   "metadata": {},
   "outputs": [
    {
     "name": "stdout",
     "output_type": "stream",
     "text": [
      "2.0.1+cu118\n",
      "11.8\n"
     ]
    }
   ],
   "source": [
    "import torch, gc\n",
    "print(torch.__version__)\n",
    "print(torch.version.cuda)\n",
    "gc.collect()\n",
    "torch.cuda.empty_cache()\n",
    "torch.backends.cudnn.enabled = False\n",
    "# !pip install --upgrade torch==2.0.1\n",
    "# !pip install --upgrade torchaudio==2.0.1\n",
    "# !pip install --upgrade torchvision==0.15.1"
   ]
  },
  {
   "cell_type": "code",
   "execution_count": 6,
   "metadata": {
    "id": "PhX8wJzIugkh"
   },
   "outputs": [
    {
     "name": "stdout",
     "output_type": "stream",
     "text": [
      "D:\\project\\music-generation\\riffusion-inference\n"
     ]
    },
    {
     "name": "stderr",
     "output_type": "stream",
     "text": [
      "Cloning into 'riffusion-inference'...\n"
     ]
    }
   ],
   "source": [
    "# @title Clone the inference repo\n",
    "# !git clone https://github.com/hmartiro/riffusion-inference\n",
    "# !pip install pickleshare\n",
    "%cd riffusion-inference"
   ]
  },
  {
   "cell_type": "code",
   "execution_count": 40,
   "metadata": {
    "id": "wNrYejGYuyws"
   },
   "outputs": [
    {
     "name": "stdout",
     "output_type": "stream",
     "text": [
      "Requirement already satisfied: accelerate in c:\\users\\lenovo\\anaconda3\\envs\\pytorch\\lib\\site-packages (from -r requirements.txt (line 1)) (0.29.1)\n",
      "Requirement already satisfied: argh in c:\\users\\lenovo\\anaconda3\\envs\\pytorch\\lib\\site-packages (from -r requirements.txt (line 2)) (0.31.2)\n",
      "Requirement already satisfied: dacite in c:\\users\\lenovo\\anaconda3\\envs\\pytorch\\lib\\site-packages (from -r requirements.txt (line 3)) (1.8.1)\n",
      "Requirement already satisfied: demucs in c:\\users\\lenovo\\anaconda3\\envs\\pytorch\\lib\\site-packages (from -r requirements.txt (line 4)) (4.0.1)\n",
      "Requirement already satisfied: diffusers==0.9.0 in c:\\users\\lenovo\\anaconda3\\envs\\pytorch\\lib\\site-packages (from -r requirements.txt (line 5)) (0.9.0)\n",
      "Requirement already satisfied: flask in c:\\users\\lenovo\\anaconda3\\envs\\pytorch\\lib\\site-packages (from -r requirements.txt (line 6)) (3.0.2)\n",
      "Requirement already satisfied: flask_cors in c:\\users\\lenovo\\anaconda3\\envs\\pytorch\\lib\\site-packages (from -r requirements.txt (line 7)) (4.0.0)\n",
      "Requirement already satisfied: numpy in c:\\users\\lenovo\\anaconda3\\envs\\pytorch\\lib\\site-packages (from -r requirements.txt (line 8)) (1.26.4)\n",
      "Requirement already satisfied: pillow>=9.1.0 in c:\\users\\lenovo\\anaconda3\\envs\\pytorch\\lib\\site-packages (from -r requirements.txt (line 9)) (10.2.0)\n",
      "Requirement already satisfied: plotly in c:\\users\\lenovo\\anaconda3\\envs\\pytorch\\lib\\site-packages (from -r requirements.txt (line 10)) (5.20.0)\n",
      "Requirement already satisfied: pydub in c:\\users\\lenovo\\anaconda3\\envs\\pytorch\\lib\\site-packages (from -r requirements.txt (line 11)) (0.25.1)\n",
      "Requirement already satisfied: pysoundfile in c:\\users\\lenovo\\anaconda3\\envs\\pytorch\\lib\\site-packages (from -r requirements.txt (line 12)) (0.9.0.post1)\n",
      "Requirement already satisfied: scipy in c:\\users\\lenovo\\anaconda3\\envs\\pytorch\\lib\\site-packages (from -r requirements.txt (line 13)) (1.13.0)\n",
      "Requirement already satisfied: soundfile in c:\\users\\lenovo\\anaconda3\\envs\\pytorch\\lib\\site-packages (from -r requirements.txt (line 14)) (0.12.1)\n",
      "Requirement already satisfied: sox in c:\\users\\lenovo\\anaconda3\\envs\\pytorch\\lib\\site-packages (from -r requirements.txt (line 15)) (1.5.0)\n",
      "Requirement already satisfied: streamlit>=1.18.0 in c:\\users\\lenovo\\anaconda3\\envs\\pytorch\\lib\\site-packages (from -r requirements.txt (line 16)) (1.33.0)\n",
      "Requirement already satisfied: torch in c:\\users\\lenovo\\anaconda3\\envs\\pytorch\\lib\\site-packages (from -r requirements.txt (line 17)) (2.0.1+cu118)\n",
      "Requirement already satisfied: torchaudio in c:\\users\\lenovo\\anaconda3\\envs\\pytorch\\lib\\site-packages (from -r requirements.txt (line 18)) (2.0.2+cu118)\n",
      "Requirement already satisfied: torchvision in c:\\users\\lenovo\\anaconda3\\envs\\pytorch\\lib\\site-packages (from -r requirements.txt (line 19)) (0.15.2+cu118)\n",
      "Requirement already satisfied: transformers in c:\\users\\lenovo\\anaconda3\\envs\\pytorch\\lib\\site-packages (from -r requirements.txt (line 20)) (4.39.3)\n",
      "Requirement already satisfied: importlib-metadata in c:\\users\\lenovo\\anaconda3\\envs\\pytorch\\lib\\site-packages (from diffusers==0.9.0->-r requirements.txt (line 5)) (7.1.0)\n",
      "Requirement already satisfied: filelock in c:\\users\\lenovo\\anaconda3\\envs\\pytorch\\lib\\site-packages (from diffusers==0.9.0->-r requirements.txt (line 5)) (3.13.1)\n",
      "Requirement already satisfied: huggingface-hub>=0.10.0 in c:\\users\\lenovo\\anaconda3\\envs\\pytorch\\lib\\site-packages (from diffusers==0.9.0->-r requirements.txt (line 5)) (0.22.2)\n",
      "Requirement already satisfied: regex!=2019.12.17 in c:\\users\\lenovo\\anaconda3\\envs\\pytorch\\lib\\site-packages (from diffusers==0.9.0->-r requirements.txt (line 5)) (2023.12.25)\n",
      "Requirement already satisfied: requests in c:\\users\\lenovo\\anaconda3\\envs\\pytorch\\lib\\site-packages (from diffusers==0.9.0->-r requirements.txt (line 5)) (2.31.0)\n",
      "Requirement already satisfied: packaging>=20.0 in c:\\users\\lenovo\\anaconda3\\envs\\pytorch\\lib\\site-packages (from accelerate->-r requirements.txt (line 1)) (23.2)\n",
      "Requirement already satisfied: psutil in c:\\users\\lenovo\\anaconda3\\envs\\pytorch\\lib\\site-packages (from accelerate->-r requirements.txt (line 1)) (5.9.0)\n",
      "Requirement already satisfied: pyyaml in c:\\users\\lenovo\\anaconda3\\envs\\pytorch\\lib\\site-packages (from accelerate->-r requirements.txt (line 1)) (6.0.1)\n",
      "Requirement already satisfied: safetensors>=0.3.1 in c:\\users\\lenovo\\anaconda3\\envs\\pytorch\\lib\\site-packages (from accelerate->-r requirements.txt (line 1)) (0.4.2)\n",
      "Requirement already satisfied: dora-search in c:\\users\\lenovo\\anaconda3\\envs\\pytorch\\lib\\site-packages (from demucs->-r requirements.txt (line 4)) (0.1.12)\n",
      "Requirement already satisfied: einops in c:\\users\\lenovo\\anaconda3\\envs\\pytorch\\lib\\site-packages (from demucs->-r requirements.txt (line 4)) (0.7.0)\n",
      "Requirement already satisfied: julius>=0.2.3 in c:\\users\\lenovo\\anaconda3\\envs\\pytorch\\lib\\site-packages (from demucs->-r requirements.txt (line 4)) (0.2.7)\n",
      "Requirement already satisfied: lameenc>=1.2 in c:\\users\\lenovo\\anaconda3\\envs\\pytorch\\lib\\site-packages (from demucs->-r requirements.txt (line 4)) (1.7.0)\n",
      "Requirement already satisfied: openunmix in c:\\users\\lenovo\\anaconda3\\envs\\pytorch\\lib\\site-packages (from demucs->-r requirements.txt (line 4)) (1.2.1)\n",
      "Requirement already satisfied: tqdm in c:\\users\\lenovo\\anaconda3\\envs\\pytorch\\lib\\site-packages (from demucs->-r requirements.txt (line 4)) (4.65.0)\n",
      "Requirement already satisfied: Werkzeug>=3.0.0 in c:\\users\\lenovo\\anaconda3\\envs\\pytorch\\lib\\site-packages (from flask->-r requirements.txt (line 6)) (3.0.2)\n",
      "Requirement already satisfied: Jinja2>=3.1.2 in c:\\users\\lenovo\\anaconda3\\envs\\pytorch\\lib\\site-packages (from flask->-r requirements.txt (line 6)) (3.1.3)\n",
      "Requirement already satisfied: itsdangerous>=2.1.2 in c:\\users\\lenovo\\anaconda3\\envs\\pytorch\\lib\\site-packages (from flask->-r requirements.txt (line 6)) (2.1.2)\n",
      "Requirement already satisfied: click>=8.1.3 in c:\\users\\lenovo\\anaconda3\\envs\\pytorch\\lib\\site-packages (from flask->-r requirements.txt (line 6)) (8.1.7)\n",
      "Requirement already satisfied: blinker>=1.6.2 in c:\\users\\lenovo\\anaconda3\\envs\\pytorch\\lib\\site-packages (from flask->-r requirements.txt (line 6)) (1.7.0)\n",
      "Requirement already satisfied: tenacity>=6.2.0 in c:\\users\\lenovo\\anaconda3\\envs\\pytorch\\lib\\site-packages (from plotly->-r requirements.txt (line 10)) (8.2.3)\n",
      "Requirement already satisfied: cffi>=0.6 in c:\\users\\lenovo\\anaconda3\\envs\\pytorch\\lib\\site-packages (from pysoundfile->-r requirements.txt (line 12)) (1.16.0)\n",
      "Requirement already satisfied: typing-extensions>=3.7.4.2 in c:\\users\\lenovo\\anaconda3\\envs\\pytorch\\lib\\site-packages (from sox->-r requirements.txt (line 15)) (4.9.0)\n",
      "Requirement already satisfied: altair<6,>=4.0 in c:\\users\\lenovo\\anaconda3\\envs\\pytorch\\lib\\site-packages (from streamlit>=1.18.0->-r requirements.txt (line 16)) (5.3.0)\n",
      "Requirement already satisfied: cachetools<6,>=4.0 in c:\\users\\lenovo\\anaconda3\\envs\\pytorch\\lib\\site-packages (from streamlit>=1.18.0->-r requirements.txt (line 16)) (5.3.3)\n",
      "Requirement already satisfied: pandas<3,>=1.3.0 in c:\\users\\lenovo\\anaconda3\\envs\\pytorch\\lib\\site-packages (from streamlit>=1.18.0->-r requirements.txt (line 16)) (2.2.1)\n",
      "Requirement already satisfied: protobuf<5,>=3.20 in c:\\users\\lenovo\\anaconda3\\envs\\pytorch\\lib\\site-packages (from streamlit>=1.18.0->-r requirements.txt (line 16)) (3.20.0)\n",
      "Requirement already satisfied: pyarrow>=7.0 in c:\\users\\lenovo\\anaconda3\\envs\\pytorch\\lib\\site-packages (from streamlit>=1.18.0->-r requirements.txt (line 16)) (15.0.2)\n",
      "Requirement already satisfied: rich<14,>=10.14.0 in c:\\users\\lenovo\\anaconda3\\envs\\pytorch\\lib\\site-packages (from streamlit>=1.18.0->-r requirements.txt (line 16)) (13.7.1)\n",
      "Requirement already satisfied: toml<2,>=0.10.1 in c:\\users\\lenovo\\anaconda3\\envs\\pytorch\\lib\\site-packages (from streamlit>=1.18.0->-r requirements.txt (line 16)) (0.10.2)\n",
      "Requirement already satisfied: gitpython!=3.1.19,<4,>=3.0.7 in c:\\users\\lenovo\\anaconda3\\envs\\pytorch\\lib\\site-packages (from streamlit>=1.18.0->-r requirements.txt (line 16)) (3.1.43)\n",
      "Requirement already satisfied: pydeck<1,>=0.8.0b4 in c:\\users\\lenovo\\anaconda3\\envs\\pytorch\\lib\\site-packages (from streamlit>=1.18.0->-r requirements.txt (line 16)) (0.8.1b0)\n",
      "Requirement already satisfied: tornado<7,>=6.0.3 in c:\\users\\lenovo\\anaconda3\\envs\\pytorch\\lib\\site-packages (from streamlit>=1.18.0->-r requirements.txt (line 16)) (6.3.3)\n",
      "Requirement already satisfied: watchdog>=2.1.5 in c:\\users\\lenovo\\anaconda3\\envs\\pytorch\\lib\\site-packages (from streamlit>=1.18.0->-r requirements.txt (line 16)) (4.0.0)\n",
      "Requirement already satisfied: sympy in c:\\users\\lenovo\\anaconda3\\envs\\pytorch\\lib\\site-packages (from torch->-r requirements.txt (line 17)) (1.12)\n",
      "Requirement already satisfied: networkx in c:\\users\\lenovo\\anaconda3\\envs\\pytorch\\lib\\site-packages (from torch->-r requirements.txt (line 17)) (3.1)\n",
      "Requirement already satisfied: tokenizers<0.19,>=0.14 in c:\\users\\lenovo\\anaconda3\\envs\\pytorch\\lib\\site-packages (from transformers->-r requirements.txt (line 20)) (0.15.2)\n",
      "Requirement already satisfied: jsonschema>=3.0 in c:\\users\\lenovo\\anaconda3\\envs\\pytorch\\lib\\site-packages (from altair<6,>=4.0->streamlit>=1.18.0->-r requirements.txt (line 16)) (4.19.2)\n",
      "Requirement already satisfied: toolz in c:\\users\\lenovo\\anaconda3\\envs\\pytorch\\lib\\site-packages (from altair<6,>=4.0->streamlit>=1.18.0->-r requirements.txt (line 16)) (0.12.1)\n",
      "Requirement already satisfied: pycparser in c:\\users\\lenovo\\anaconda3\\envs\\pytorch\\lib\\site-packages (from cffi>=0.6->pysoundfile->-r requirements.txt (line 12)) (2.21)\n",
      "Requirement already satisfied: colorama in c:\\users\\lenovo\\anaconda3\\envs\\pytorch\\lib\\site-packages (from click>=8.1.3->flask->-r requirements.txt (line 6)) (0.4.6)\n",
      "Requirement already satisfied: gitdb<5,>=4.0.1 in c:\\users\\lenovo\\anaconda3\\envs\\pytorch\\lib\\site-packages (from gitpython!=3.1.19,<4,>=3.0.7->streamlit>=1.18.0->-r requirements.txt (line 16)) (4.0.11)\n",
      "Requirement already satisfied: fsspec>=2023.5.0 in c:\\users\\lenovo\\anaconda3\\envs\\pytorch\\lib\\site-packages (from huggingface-hub>=0.10.0->diffusers==0.9.0->-r requirements.txt (line 5)) (2024.2.0)\n",
      "Requirement already satisfied: MarkupSafe>=2.0 in c:\\users\\lenovo\\anaconda3\\envs\\pytorch\\lib\\site-packages (from Jinja2>=3.1.2->flask->-r requirements.txt (line 6)) (2.1.3)\n",
      "Requirement already satisfied: python-dateutil>=2.8.2 in c:\\users\\lenovo\\anaconda3\\envs\\pytorch\\lib\\site-packages (from pandas<3,>=1.3.0->streamlit>=1.18.0->-r requirements.txt (line 16)) (2.8.2)\n",
      "Requirement already satisfied: pytz>=2020.1 in c:\\users\\lenovo\\anaconda3\\envs\\pytorch\\lib\\site-packages (from pandas<3,>=1.3.0->streamlit>=1.18.0->-r requirements.txt (line 16)) (2023.3.post1)\n",
      "Requirement already satisfied: tzdata>=2022.7 in c:\\users\\lenovo\\anaconda3\\envs\\pytorch\\lib\\site-packages (from pandas<3,>=1.3.0->streamlit>=1.18.0->-r requirements.txt (line 16)) (2024.1)\n",
      "Requirement already satisfied: charset-normalizer<4,>=2 in c:\\users\\lenovo\\anaconda3\\envs\\pytorch\\lib\\site-packages (from requests->diffusers==0.9.0->-r requirements.txt (line 5)) (2.0.4)\n",
      "Requirement already satisfied: idna<4,>=2.5 in c:\\users\\lenovo\\anaconda3\\envs\\pytorch\\lib\\site-packages (from requests->diffusers==0.9.0->-r requirements.txt (line 5)) (3.4)\n",
      "Requirement already satisfied: urllib3<3,>=1.21.1 in c:\\users\\lenovo\\anaconda3\\envs\\pytorch\\lib\\site-packages (from requests->diffusers==0.9.0->-r requirements.txt (line 5)) (2.1.0)\n",
      "Requirement already satisfied: certifi>=2017.4.17 in c:\\users\\lenovo\\anaconda3\\envs\\pytorch\\lib\\site-packages (from requests->diffusers==0.9.0->-r requirements.txt (line 5)) (2024.2.2)\n",
      "Requirement already satisfied: markdown-it-py>=2.2.0 in c:\\users\\lenovo\\anaconda3\\envs\\pytorch\\lib\\site-packages (from rich<14,>=10.14.0->streamlit>=1.18.0->-r requirements.txt (line 16)) (3.0.0)\n",
      "Requirement already satisfied: pygments<3.0.0,>=2.13.0 in c:\\users\\lenovo\\anaconda3\\envs\\pytorch\\lib\\site-packages (from rich<14,>=10.14.0->streamlit>=1.18.0->-r requirements.txt (line 16)) (2.15.1)\n",
      "Requirement already satisfied: omegaconf in c:\\users\\lenovo\\anaconda3\\envs\\pytorch\\lib\\site-packages (from dora-search->demucs->-r requirements.txt (line 4)) (2.3.0)\n",
      "Requirement already satisfied: retrying in c:\\users\\lenovo\\anaconda3\\envs\\pytorch\\lib\\site-packages (from dora-search->demucs->-r requirements.txt (line 4)) (1.3.4)\n",
      "Requirement already satisfied: submitit in c:\\users\\lenovo\\anaconda3\\envs\\pytorch\\lib\\site-packages (from dora-search->demucs->-r requirements.txt (line 4)) (1.5.1)\n",
      "Requirement already satisfied: treetable in c:\\users\\lenovo\\anaconda3\\envs\\pytorch\\lib\\site-packages (from dora-search->demucs->-r requirements.txt (line 4)) (0.2.5)\n",
      "Requirement already satisfied: zipp>=0.5 in c:\\users\\lenovo\\anaconda3\\envs\\pytorch\\lib\\site-packages (from importlib-metadata->diffusers==0.9.0->-r requirements.txt (line 5)) (3.18.1)\n",
      "Requirement already satisfied: mpmath>=0.19 in c:\\users\\lenovo\\anaconda3\\envs\\pytorch\\lib\\site-packages (from sympy->torch->-r requirements.txt (line 17)) (1.3.0)\n",
      "Requirement already satisfied: smmap<6,>=3.0.1 in c:\\users\\lenovo\\anaconda3\\envs\\pytorch\\lib\\site-packages (from gitdb<5,>=4.0.1->gitpython!=3.1.19,<4,>=3.0.7->streamlit>=1.18.0->-r requirements.txt (line 16)) (5.0.1)\n",
      "Requirement already satisfied: attrs>=22.2.0 in c:\\users\\lenovo\\anaconda3\\envs\\pytorch\\lib\\site-packages (from jsonschema>=3.0->altair<6,>=4.0->streamlit>=1.18.0->-r requirements.txt (line 16)) (23.1.0)\n",
      "Requirement already satisfied: jsonschema-specifications>=2023.03.6 in c:\\users\\lenovo\\anaconda3\\envs\\pytorch\\lib\\site-packages (from jsonschema>=3.0->altair<6,>=4.0->streamlit>=1.18.0->-r requirements.txt (line 16)) (2023.7.1)\n",
      "Requirement already satisfied: referencing>=0.28.4 in c:\\users\\lenovo\\anaconda3\\envs\\pytorch\\lib\\site-packages (from jsonschema>=3.0->altair<6,>=4.0->streamlit>=1.18.0->-r requirements.txt (line 16)) (0.30.2)\n",
      "Requirement already satisfied: rpds-py>=0.7.1 in c:\\users\\lenovo\\anaconda3\\envs\\pytorch\\lib\\site-packages (from jsonschema>=3.0->altair<6,>=4.0->streamlit>=1.18.0->-r requirements.txt (line 16)) (0.10.6)\n",
      "Requirement already satisfied: mdurl~=0.1 in c:\\users\\lenovo\\anaconda3\\envs\\pytorch\\lib\\site-packages (from markdown-it-py>=2.2.0->rich<14,>=10.14.0->streamlit>=1.18.0->-r requirements.txt (line 16)) (0.1.2)\n",
      "Requirement already satisfied: six>=1.5 in c:\\users\\lenovo\\anaconda3\\envs\\pytorch\\lib\\site-packages (from python-dateutil>=2.8.2->pandas<3,>=1.3.0->streamlit>=1.18.0->-r requirements.txt (line 16)) (1.16.0)\n",
      "Requirement already satisfied: antlr4-python3-runtime==4.9.* in c:\\users\\lenovo\\anaconda3\\envs\\pytorch\\lib\\site-packages (from omegaconf->dora-search->demucs->-r requirements.txt (line 4)) (4.9.3)\n",
      "Requirement already satisfied: cloudpickle>=1.2.1 in c:\\users\\lenovo\\anaconda3\\envs\\pytorch\\lib\\site-packages (from submitit->dora-search->demucs->-r requirements.txt (line 4)) (3.0.0)\n"
     ]
    },
    {
     "name": "stderr",
     "output_type": "stream",
     "text": [
      "WARNING: Ignoring invalid distribution -orch (c:\\users\\lenovo\\anaconda3\\envs\\pytorch\\lib\\site-packages)\n",
      "WARNING: Ignoring invalid distribution -orch (c:\\users\\lenovo\\anaconda3\\envs\\pytorch\\lib\\site-packages)\n"
     ]
    },
    {
     "name": "stdout",
     "output_type": "stream",
     "text": [
      "Requirement already satisfied: gradio in c:\\users\\lenovo\\anaconda3\\envs\\pytorch\\lib\\site-packages (4.25.0)\n",
      "Requirement already satisfied: aiofiles<24.0,>=22.0 in c:\\users\\lenovo\\anaconda3\\envs\\pytorch\\lib\\site-packages (from gradio) (23.2.1)\n",
      "Requirement already satisfied: altair<6.0,>=4.2.0 in c:\\users\\lenovo\\anaconda3\\envs\\pytorch\\lib\\site-packages (from gradio) (5.3.0)\n",
      "Requirement already satisfied: fastapi in c:\\users\\lenovo\\anaconda3\\envs\\pytorch\\lib\\site-packages (from gradio) (0.110.1)\n",
      "Requirement already satisfied: ffmpy in c:\\users\\lenovo\\anaconda3\\envs\\pytorch\\lib\\site-packages (from gradio) (0.3.2)\n",
      "Requirement already satisfied: gradio-client==0.15.0 in c:\\users\\lenovo\\anaconda3\\envs\\pytorch\\lib\\site-packages (from gradio) (0.15.0)\n",
      "Requirement already satisfied: httpx>=0.24.1 in c:\\users\\lenovo\\anaconda3\\envs\\pytorch\\lib\\site-packages (from gradio) (0.27.0)\n",
      "Requirement already satisfied: huggingface-hub>=0.19.3 in c:\\users\\lenovo\\anaconda3\\envs\\pytorch\\lib\\site-packages (from gradio) (0.22.2)\n",
      "Requirement already satisfied: importlib-resources<7.0,>=1.3 in c:\\users\\lenovo\\anaconda3\\envs\\pytorch\\lib\\site-packages (from gradio) (6.4.0)\n",
      "Requirement already satisfied: jinja2<4.0 in c:\\users\\lenovo\\anaconda3\\envs\\pytorch\\lib\\site-packages (from gradio) (3.1.3)\n",
      "Requirement already satisfied: markupsafe~=2.0 in c:\\users\\lenovo\\anaconda3\\envs\\pytorch\\lib\\site-packages (from gradio) (2.1.3)\n",
      "Requirement already satisfied: matplotlib~=3.0 in c:\\users\\lenovo\\anaconda3\\envs\\pytorch\\lib\\site-packages (from gradio) (3.8.3)\n",
      "Requirement already satisfied: numpy~=1.0 in c:\\users\\lenovo\\anaconda3\\envs\\pytorch\\lib\\site-packages (from gradio) (1.26.4)\n",
      "Requirement already satisfied: orjson~=3.0 in c:\\users\\lenovo\\anaconda3\\envs\\pytorch\\lib\\site-packages (from gradio) (3.10.0)\n",
      "Requirement already satisfied: packaging in c:\\users\\lenovo\\anaconda3\\envs\\pytorch\\lib\\site-packages (from gradio) (23.2)\n",
      "Requirement already satisfied: pandas<3.0,>=1.0 in c:\\users\\lenovo\\anaconda3\\envs\\pytorch\\lib\\site-packages (from gradio) (2.2.1)\n",
      "Requirement already satisfied: pillow<11.0,>=8.0 in c:\\users\\lenovo\\anaconda3\\envs\\pytorch\\lib\\site-packages (from gradio) (10.2.0)\n",
      "Requirement already satisfied: pydantic>=2.0 in c:\\users\\lenovo\\anaconda3\\envs\\pytorch\\lib\\site-packages (from gradio) (2.6.4)\n",
      "Requirement already satisfied: pydub in c:\\users\\lenovo\\anaconda3\\envs\\pytorch\\lib\\site-packages (from gradio) (0.25.1)\n",
      "Requirement already satisfied: python-multipart>=0.0.9 in c:\\users\\lenovo\\anaconda3\\envs\\pytorch\\lib\\site-packages (from gradio) (0.0.9)\n",
      "Requirement already satisfied: pyyaml<7.0,>=5.0 in c:\\users\\lenovo\\anaconda3\\envs\\pytorch\\lib\\site-packages (from gradio) (6.0.1)\n",
      "Requirement already satisfied: ruff>=0.2.2 in c:\\users\\lenovo\\anaconda3\\envs\\pytorch\\lib\\site-packages (from gradio) (0.3.5)\n",
      "Requirement already satisfied: semantic-version~=2.0 in c:\\users\\lenovo\\anaconda3\\envs\\pytorch\\lib\\site-packages (from gradio) (2.10.0)\n",
      "Requirement already satisfied: tomlkit==0.12.0 in c:\\users\\lenovo\\anaconda3\\envs\\pytorch\\lib\\site-packages (from gradio) (0.12.0)\n",
      "Requirement already satisfied: typer<1.0,>=0.9 in c:\\users\\lenovo\\anaconda3\\envs\\pytorch\\lib\\site-packages (from typer[all]<1.0,>=0.9; sys_platform != \"emscripten\"->gradio) (0.12.0)\n",
      "Requirement already satisfied: typing-extensions~=4.0 in c:\\users\\lenovo\\anaconda3\\envs\\pytorch\\lib\\site-packages (from gradio) (4.9.0)\n",
      "Requirement already satisfied: uvicorn>=0.14.0 in c:\\users\\lenovo\\anaconda3\\envs\\pytorch\\lib\\site-packages (from gradio) (0.29.0)\n",
      "Requirement already satisfied: fsspec in c:\\users\\lenovo\\anaconda3\\envs\\pytorch\\lib\\site-packages (from gradio-client==0.15.0->gradio) (2024.2.0)\n",
      "Requirement already satisfied: websockets<12.0,>=10.0 in c:\\users\\lenovo\\anaconda3\\envs\\pytorch\\lib\\site-packages (from gradio-client==0.15.0->gradio) (11.0.3)\n",
      "Requirement already satisfied: jsonschema>=3.0 in c:\\users\\lenovo\\anaconda3\\envs\\pytorch\\lib\\site-packages (from altair<6.0,>=4.2.0->gradio) (4.19.2)\n",
      "Requirement already satisfied: toolz in c:\\users\\lenovo\\anaconda3\\envs\\pytorch\\lib\\site-packages (from altair<6.0,>=4.2.0->gradio) (0.12.1)\n",
      "Requirement already satisfied: anyio in c:\\users\\lenovo\\anaconda3\\envs\\pytorch\\lib\\site-packages (from httpx>=0.24.1->gradio) (4.2.0)\n",
      "Requirement already satisfied: certifi in c:\\users\\lenovo\\anaconda3\\envs\\pytorch\\lib\\site-packages (from httpx>=0.24.1->gradio) (2024.2.2)\n",
      "Requirement already satisfied: httpcore==1.* in c:\\users\\lenovo\\anaconda3\\envs\\pytorch\\lib\\site-packages (from httpx>=0.24.1->gradio) (1.0.5)\n",
      "Requirement already satisfied: idna in c:\\users\\lenovo\\anaconda3\\envs\\pytorch\\lib\\site-packages (from httpx>=0.24.1->gradio) (3.4)\n",
      "Requirement already satisfied: sniffio in c:\\users\\lenovo\\anaconda3\\envs\\pytorch\\lib\\site-packages (from httpx>=0.24.1->gradio) (1.3.0)\n",
      "Requirement already satisfied: h11<0.15,>=0.13 in c:\\users\\lenovo\\anaconda3\\envs\\pytorch\\lib\\site-packages (from httpcore==1.*->httpx>=0.24.1->gradio) (0.14.0)\n",
      "Requirement already satisfied: filelock in c:\\users\\lenovo\\anaconda3\\envs\\pytorch\\lib\\site-packages (from huggingface-hub>=0.19.3->gradio) (3.13.1)\n",
      "Requirement already satisfied: requests in c:\\users\\lenovo\\anaconda3\\envs\\pytorch\\lib\\site-packages (from huggingface-hub>=0.19.3->gradio) (2.31.0)\n",
      "Requirement already satisfied: tqdm>=4.42.1 in c:\\users\\lenovo\\anaconda3\\envs\\pytorch\\lib\\site-packages (from huggingface-hub>=0.19.3->gradio) (4.65.0)\n",
      "Requirement already satisfied: contourpy>=1.0.1 in c:\\users\\lenovo\\anaconda3\\envs\\pytorch\\lib\\site-packages (from matplotlib~=3.0->gradio) (1.2.1)\n",
      "Requirement already satisfied: cycler>=0.10 in c:\\users\\lenovo\\anaconda3\\envs\\pytorch\\lib\\site-packages (from matplotlib~=3.0->gradio) (0.12.1)\n",
      "Requirement already satisfied: fonttools>=4.22.0 in c:\\users\\lenovo\\anaconda3\\envs\\pytorch\\lib\\site-packages (from matplotlib~=3.0->gradio) (4.50.0)\n",
      "Requirement already satisfied: kiwisolver>=1.3.1 in c:\\users\\lenovo\\anaconda3\\envs\\pytorch\\lib\\site-packages (from matplotlib~=3.0->gradio) (1.4.5)\n",
      "Requirement already satisfied: pyparsing>=2.3.1 in c:\\users\\lenovo\\anaconda3\\envs\\pytorch\\lib\\site-packages (from matplotlib~=3.0->gradio) (3.1.2)\n",
      "Requirement already satisfied: python-dateutil>=2.7 in c:\\users\\lenovo\\anaconda3\\envs\\pytorch\\lib\\site-packages (from matplotlib~=3.0->gradio) (2.8.2)\n",
      "Requirement already satisfied: pytz>=2020.1 in c:\\users\\lenovo\\anaconda3\\envs\\pytorch\\lib\\site-packages (from pandas<3.0,>=1.0->gradio) (2023.3.post1)\n",
      "Requirement already satisfied: tzdata>=2022.7 in c:\\users\\lenovo\\anaconda3\\envs\\pytorch\\lib\\site-packages (from pandas<3.0,>=1.0->gradio) (2024.1)\n",
      "Requirement already satisfied: annotated-types>=0.4.0 in c:\\users\\lenovo\\anaconda3\\envs\\pytorch\\lib\\site-packages (from pydantic>=2.0->gradio) (0.6.0)\n",
      "Requirement already satisfied: pydantic-core==2.16.3 in c:\\users\\lenovo\\anaconda3\\envs\\pytorch\\lib\\site-packages (from pydantic>=2.0->gradio) (2.16.3)\n",
      "Requirement already satisfied: typer-slim==0.12.0 in c:\\users\\lenovo\\anaconda3\\envs\\pytorch\\lib\\site-packages (from typer-slim[standard]==0.12.0->typer<1.0,>=0.9->typer[all]<1.0,>=0.9; sys_platform != \"emscripten\"->gradio) (0.12.0)\n",
      "Requirement already satisfied: typer-cli==0.12.0 in c:\\users\\lenovo\\anaconda3\\envs\\pytorch\\lib\\site-packages (from typer<1.0,>=0.9->typer[all]<1.0,>=0.9; sys_platform != \"emscripten\"->gradio) (0.12.0)\n",
      "Requirement already satisfied: click>=8.0.0 in c:\\users\\lenovo\\anaconda3\\envs\\pytorch\\lib\\site-packages (from typer-slim==0.12.0->typer-slim[standard]==0.12.0->typer<1.0,>=0.9->typer[all]<1.0,>=0.9; sys_platform != \"emscripten\"->gradio) (8.1.7)\n",
      "Requirement already satisfied: shellingham>=1.3.0 in c:\\users\\lenovo\\anaconda3\\envs\\pytorch\\lib\\site-packages (from typer-slim[standard]==0.12.0->typer<1.0,>=0.9->typer[all]<1.0,>=0.9; sys_platform != \"emscripten\"->gradio) (1.5.4)\n",
      "Requirement already satisfied: rich>=10.11.0 in c:\\users\\lenovo\\anaconda3\\envs\\pytorch\\lib\\site-packages (from typer-slim[standard]==0.12.0->typer<1.0,>=0.9->typer[all]<1.0,>=0.9; sys_platform != \"emscripten\"->gradio) (13.7.1)\n",
      "Requirement already satisfied: starlette<0.38.0,>=0.37.2 in c:\\users\\lenovo\\anaconda3\\envs\\pytorch\\lib\\site-packages (from fastapi->gradio) (0.37.2)\n",
      "Requirement already satisfied: colorama in c:\\users\\lenovo\\anaconda3\\envs\\pytorch\\lib\\site-packages (from click>=8.0.0->typer-slim==0.12.0->typer-slim[standard]==0.12.0->typer<1.0,>=0.9->typer[all]<1.0,>=0.9; sys_platform != \"emscripten\"->gradio) (0.4.6)\n",
      "Requirement already satisfied: attrs>=22.2.0 in c:\\users\\lenovo\\anaconda3\\envs\\pytorch\\lib\\site-packages (from jsonschema>=3.0->altair<6.0,>=4.2.0->gradio) (23.1.0)\n",
      "Requirement already satisfied: jsonschema-specifications>=2023.03.6 in c:\\users\\lenovo\\anaconda3\\envs\\pytorch\\lib\\site-packages (from jsonschema>=3.0->altair<6.0,>=4.2.0->gradio) (2023.7.1)\n",
      "Requirement already satisfied: referencing>=0.28.4 in c:\\users\\lenovo\\anaconda3\\envs\\pytorch\\lib\\site-packages (from jsonschema>=3.0->altair<6.0,>=4.2.0->gradio) (0.30.2)\n",
      "Requirement already satisfied: rpds-py>=0.7.1 in c:\\users\\lenovo\\anaconda3\\envs\\pytorch\\lib\\site-packages (from jsonschema>=3.0->altair<6.0,>=4.2.0->gradio) (0.10.6)\n",
      "Requirement already satisfied: six>=1.5 in c:\\users\\lenovo\\anaconda3\\envs\\pytorch\\lib\\site-packages (from python-dateutil>=2.7->matplotlib~=3.0->gradio) (1.16.0)\n",
      "Requirement already satisfied: exceptiongroup>=1.0.2 in c:\\users\\lenovo\\anaconda3\\envs\\pytorch\\lib\\site-packages (from anyio->httpx>=0.24.1->gradio) (1.2.0)\n",
      "Requirement already satisfied: charset-normalizer<4,>=2 in c:\\users\\lenovo\\anaconda3\\envs\\pytorch\\lib\\site-packages (from requests->huggingface-hub>=0.19.3->gradio) (2.0.4)\n",
      "Requirement already satisfied: urllib3<3,>=1.21.1 in c:\\users\\lenovo\\anaconda3\\envs\\pytorch\\lib\\site-packages (from requests->huggingface-hub>=0.19.3->gradio) (2.1.0)\n",
      "Requirement already satisfied: markdown-it-py>=2.2.0 in c:\\users\\lenovo\\anaconda3\\envs\\pytorch\\lib\\site-packages (from rich>=10.11.0->typer-slim[standard]==0.12.0->typer<1.0,>=0.9->typer[all]<1.0,>=0.9; sys_platform != \"emscripten\"->gradio) (3.0.0)\n",
      "Requirement already satisfied: pygments<3.0.0,>=2.13.0 in c:\\users\\lenovo\\anaconda3\\envs\\pytorch\\lib\\site-packages (from rich>=10.11.0->typer-slim[standard]==0.12.0->typer<1.0,>=0.9->typer[all]<1.0,>=0.9; sys_platform != \"emscripten\"->gradio) (2.15.1)\n",
      "Requirement already satisfied: mdurl~=0.1 in c:\\users\\lenovo\\anaconda3\\envs\\pytorch\\lib\\site-packages (from markdown-it-py>=2.2.0->rich>=10.11.0->typer-slim[standard]==0.12.0->typer<1.0,>=0.9->typer[all]<1.0,>=0.9; sys_platform != \"emscripten\"->gradio) (0.1.2)\n"
     ]
    },
    {
     "name": "stderr",
     "output_type": "stream",
     "text": [
      "WARNING: Ignoring invalid distribution -orch (c:\\users\\lenovo\\anaconda3\\envs\\pytorch\\lib\\site-packages)\n",
      "WARNING: typer 0.12.0 does not provide the extra 'all'\n",
      "WARNING: Ignoring invalid distribution -orch (c:\\users\\lenovo\\anaconda3\\envs\\pytorch\\lib\\site-packages)\n"
     ]
    },
    {
     "name": "stdout",
     "output_type": "stream",
     "text": [
      "Requirement already satisfied: pillow in c:\\users\\lenovo\\anaconda3\\envs\\pytorch\\lib\\site-packages (10.2.0)\n",
      "Collecting pillow\n",
      "  Using cached pillow-10.3.0-cp310-cp310-win_amd64.whl.metadata (9.4 kB)\n",
      "Using cached pillow-10.3.0-cp310-cp310-win_amd64.whl (2.5 MB)\n",
      "Installing collected packages: pillow\n",
      "  Attempting uninstall: pillow\n",
      "    Found existing installation: pillow 10.2.0\n",
      "    Uninstalling pillow-10.2.0:\n",
      "      Successfully uninstalled pillow-10.2.0\n",
      "Successfully installed pillow-10.3.0\n"
     ]
    },
    {
     "name": "stderr",
     "output_type": "stream",
     "text": [
      "WARNING: Ignoring invalid distribution -orch (c:\\users\\lenovo\\anaconda3\\envs\\pytorch\\lib\\site-packages)\n",
      "WARNING: Ignoring invalid distribution -orch (c:\\users\\lenovo\\anaconda3\\envs\\pytorch\\lib\\site-packages)\n"
     ]
    }
   ],
   "source": [
    "#@title Install requirements (you may need to restart the kernel after this)\n",
    "!pip install -r requirements.txt\n",
    "!pip install gradio\n",
    "!pip install --upgrade pillow"
   ]
  },
  {
   "cell_type": "code",
   "execution_count": 18,
   "metadata": {
    "cellView": "form",
    "id": "FwUldklBwbEZ"
   },
   "outputs": [
    {
     "data": {
      "application/vnd.jupyter.widget-view+json": {
       "model_id": "61bc6a040dd04f48a9dcfd27e448dda5",
       "version_major": 2,
       "version_minor": 0
      },
      "text/plain": [
       "Fetching 15 files:   0%|          | 0/15 [00:00<?, ?it/s]"
      ]
     },
     "metadata": {},
     "output_type": "display_data"
    }
   ],
   "source": [
    "#@title Imports\n",
    "from diffusers import DiffusionPipeline\n",
    "from riffusion.spectrogram_image_converter import SpectrogramImageConverter\n",
    "from riffusion.spectrogram_params import SpectrogramParams\n",
    "from io import BytesIO\n",
    "from IPython.display import Audio\n",
    "\n",
    "pipe = DiffusionPipeline.from_pretrained(\"riffusion/riffusion-model-v1\")\n",
    "pipe = pipe.to(\"cuda\")"
   ]
  },
  {
   "cell_type": "code",
   "execution_count": 19,
   "metadata": {
    "id": "cJEn1fFHsZN6"
   },
   "outputs": [],
   "source": [
    "#@title Define a `predict` function\n",
    "\n",
    "params = SpectrogramParams()\n",
    "converter = SpectrogramImageConverter(params)\n",
    "\n",
    "def predict(prompt, negative_prompt):\n",
    "    spec = pipe(\n",
    "        prompt,\n",
    "        negative_prompt=negative_prompt,\n",
    "        width=768,\n",
    "    ).images[0]\n",
    "\n",
    "    wav = converter.audio_from_spectrogram_image(image=spec)\n",
    "    wav.export('output.wav', format='wav')\n",
    "    return 'output.wav', spec"
   ]
  },
  {
   "cell_type": "code",
   "execution_count": 20,
   "metadata": {
    "id": "uO7oM1UGsL5x"
   },
   "outputs": [
    {
     "data": {
      "application/vnd.jupyter.widget-view+json": {
       "model_id": "d7de8934eb294909920b683fb8875df2",
       "version_major": 2,
       "version_minor": 0
      },
      "text/plain": [
       "  0%|          | 0/51 [00:00<?, ?it/s]"
      ]
     },
     "metadata": {},
     "output_type": "display_data"
    },
    {
     "ename": "ValueError",
     "evalue": "Expected an input with 32 mel bins. Found: 512",
     "output_type": "error",
     "traceback": [
      "\u001b[1;31m---------------------------------------------------------------------------\u001b[0m",
      "\u001b[1;31mValueError\u001b[0m                                Traceback (most recent call last)",
      "Cell \u001b[1;32mIn[20], line 5\u001b[0m\n\u001b[0;32m      2\u001b[0m prompt \u001b[38;5;241m=\u001b[39m \u001b[38;5;124m\"\u001b[39m\u001b[38;5;124msolo piano\u001b[39m\u001b[38;5;124m\"\u001b[39m\u001b[38;5;66;03m#@param {type:\"string\"}\u001b[39;00m\n\u001b[0;32m      3\u001b[0m negative_prompt \u001b[38;5;241m=\u001b[39m \u001b[38;5;124m\"\u001b[39m\u001b[38;5;124mdrums\u001b[39m\u001b[38;5;124m\"\u001b[39m\u001b[38;5;66;03m#@param {type:\"string\"}\u001b[39;00m\n\u001b[1;32m----> 5\u001b[0m path, spec \u001b[38;5;241m=\u001b[39m \u001b[43mpredict\u001b[49m\u001b[43m(\u001b[49m\u001b[43mprompt\u001b[49m\u001b[43m,\u001b[49m\u001b[43m \u001b[49m\u001b[43mnegative_prompt\u001b[49m\u001b[43m)\u001b[49m\n\u001b[0;32m      7\u001b[0m display(spec)\n\u001b[0;32m      8\u001b[0m Audio(\u001b[38;5;124m'\u001b[39m\u001b[38;5;124moutput.wav\u001b[39m\u001b[38;5;124m'\u001b[39m)\n",
      "Cell \u001b[1;32mIn[19], line 13\u001b[0m, in \u001b[0;36mpredict\u001b[1;34m(prompt, negative_prompt)\u001b[0m\n\u001b[0;32m      6\u001b[0m \u001b[38;5;28;01mdef\u001b[39;00m \u001b[38;5;21mpredict\u001b[39m(prompt, negative_prompt):\n\u001b[0;32m      7\u001b[0m     spec \u001b[38;5;241m=\u001b[39m pipe(\n\u001b[0;32m      8\u001b[0m         prompt,\n\u001b[0;32m      9\u001b[0m         negative_prompt\u001b[38;5;241m=\u001b[39mnegative_prompt,\n\u001b[0;32m     10\u001b[0m         width\u001b[38;5;241m=\u001b[39m\u001b[38;5;241m768\u001b[39m,\n\u001b[0;32m     11\u001b[0m     )\u001b[38;5;241m.\u001b[39mimages[\u001b[38;5;241m0\u001b[39m]\n\u001b[1;32m---> 13\u001b[0m     wav \u001b[38;5;241m=\u001b[39m \u001b[43mconverter\u001b[49m\u001b[38;5;241;43m.\u001b[39;49m\u001b[43maudio_from_spectrogram_image\u001b[49m\u001b[43m(\u001b[49m\u001b[43mimage\u001b[49m\u001b[38;5;241;43m=\u001b[39;49m\u001b[43mspec\u001b[49m\u001b[43m)\u001b[49m\n\u001b[0;32m     14\u001b[0m     wav\u001b[38;5;241m.\u001b[39mexport(\u001b[38;5;124m'\u001b[39m\u001b[38;5;124moutput.wav\u001b[39m\u001b[38;5;124m'\u001b[39m, \u001b[38;5;28mformat\u001b[39m\u001b[38;5;241m=\u001b[39m\u001b[38;5;124m'\u001b[39m\u001b[38;5;124mwav\u001b[39m\u001b[38;5;124m'\u001b[39m)\n\u001b[0;32m     15\u001b[0m     \u001b[38;5;28;01mreturn\u001b[39;00m \u001b[38;5;124m'\u001b[39m\u001b[38;5;124moutput.wav\u001b[39m\u001b[38;5;124m'\u001b[39m, spec\n",
      "File \u001b[1;32mD:\\project\\music-generation\\riffusion-inference\\riffusion\\spectrogram_image_converter.py:86\u001b[0m, in \u001b[0;36mSpectrogramImageConverter.audio_from_spectrogram_image\u001b[1;34m(self, image, apply_filters, max_value)\u001b[0m\n\u001b[0;32m     71\u001b[0m \u001b[38;5;250m\u001b[39m\u001b[38;5;124;03m\"\"\"\u001b[39;00m\n\u001b[0;32m     72\u001b[0m \u001b[38;5;124;03mReconstruct an audio segment from a spectrogram image.\u001b[39;00m\n\u001b[0;32m     73\u001b[0m \n\u001b[1;32m   (...)\u001b[0m\n\u001b[0;32m     77\u001b[0m \u001b[38;5;124;03m    max_value: Scaled max amplitude of the spectrogram. Shouldn't matter.\u001b[39;00m\n\u001b[0;32m     78\u001b[0m \u001b[38;5;124;03m\"\"\"\u001b[39;00m\n\u001b[0;32m     79\u001b[0m spectrogram \u001b[38;5;241m=\u001b[39m image_util\u001b[38;5;241m.\u001b[39mspectrogram_from_image(\n\u001b[0;32m     80\u001b[0m     image,\n\u001b[0;32m     81\u001b[0m     max_value\u001b[38;5;241m=\u001b[39mmax_value,\n\u001b[0;32m     82\u001b[0m     power\u001b[38;5;241m=\u001b[39m\u001b[38;5;28mself\u001b[39m\u001b[38;5;241m.\u001b[39mp\u001b[38;5;241m.\u001b[39mpower_for_image,\n\u001b[0;32m     83\u001b[0m     stereo\u001b[38;5;241m=\u001b[39m\u001b[38;5;28mself\u001b[39m\u001b[38;5;241m.\u001b[39mp\u001b[38;5;241m.\u001b[39mstereo,\n\u001b[0;32m     84\u001b[0m )\n\u001b[1;32m---> 86\u001b[0m segment \u001b[38;5;241m=\u001b[39m \u001b[38;5;28;43mself\u001b[39;49m\u001b[38;5;241;43m.\u001b[39;49m\u001b[43mconverter\u001b[49m\u001b[38;5;241;43m.\u001b[39;49m\u001b[43maudio_from_spectrogram\u001b[49m\u001b[43m(\u001b[49m\n\u001b[0;32m     87\u001b[0m \u001b[43m    \u001b[49m\u001b[43mspectrogram\u001b[49m\u001b[43m,\u001b[49m\n\u001b[0;32m     88\u001b[0m \u001b[43m    \u001b[49m\u001b[43mapply_filters\u001b[49m\u001b[38;5;241;43m=\u001b[39;49m\u001b[43mapply_filters\u001b[49m\u001b[43m,\u001b[49m\n\u001b[0;32m     89\u001b[0m \u001b[43m\u001b[49m\u001b[43m)\u001b[49m\n\u001b[0;32m     91\u001b[0m \u001b[38;5;28;01mreturn\u001b[39;00m segment\n",
      "File \u001b[1;32mD:\\project\\music-generation\\riffusion-inference\\riffusion\\spectrogram_converter.py:146\u001b[0m, in \u001b[0;36mSpectrogramConverter.audio_from_spectrogram\u001b[1;34m(self, spectrogram, apply_filters)\u001b[0m\n\u001b[0;32m    143\u001b[0m amplitudes_mel \u001b[38;5;241m=\u001b[39m torch\u001b[38;5;241m.\u001b[39mfrom_numpy(spectrogram)\u001b[38;5;241m.\u001b[39mto(\u001b[38;5;28mself\u001b[39m\u001b[38;5;241m.\u001b[39mdevice)\n\u001b[0;32m    145\u001b[0m \u001b[38;5;66;03m# Reconstruct the waveform\u001b[39;00m\n\u001b[1;32m--> 146\u001b[0m waveform \u001b[38;5;241m=\u001b[39m \u001b[38;5;28;43mself\u001b[39;49m\u001b[38;5;241;43m.\u001b[39;49m\u001b[43mwaveform_from_mel_amplitudes\u001b[49m\u001b[43m(\u001b[49m\u001b[43mamplitudes_mel\u001b[49m\u001b[43m)\u001b[49m\n\u001b[0;32m    148\u001b[0m \u001b[38;5;66;03m# Convert to audio segment\u001b[39;00m\n\u001b[0;32m    149\u001b[0m segment \u001b[38;5;241m=\u001b[39m audio_util\u001b[38;5;241m.\u001b[39maudio_from_waveform(\n\u001b[0;32m    150\u001b[0m     samples\u001b[38;5;241m=\u001b[39mwaveform\u001b[38;5;241m.\u001b[39mcpu()\u001b[38;5;241m.\u001b[39mnumpy(),\n\u001b[0;32m    151\u001b[0m     sample_rate\u001b[38;5;241m=\u001b[39m\u001b[38;5;28mself\u001b[39m\u001b[38;5;241m.\u001b[39mp\u001b[38;5;241m.\u001b[39msample_rate,\n\u001b[0;32m    152\u001b[0m     \u001b[38;5;66;03m# Normalize the waveform to the range [-1, 1]\u001b[39;00m\n\u001b[0;32m    153\u001b[0m     normalize\u001b[38;5;241m=\u001b[39m\u001b[38;5;28;01mTrue\u001b[39;00m,\n\u001b[0;32m    154\u001b[0m )\n",
      "File \u001b[1;32mD:\\project\\music-generation\\riffusion-inference\\riffusion\\spectrogram_converter.py:201\u001b[0m, in \u001b[0;36mSpectrogramConverter.waveform_from_mel_amplitudes\u001b[1;34m(self, amplitudes_mel)\u001b[0m\n\u001b[0;32m    191\u001b[0m \u001b[38;5;250m\u001b[39m\u001b[38;5;124;03m\"\"\"\u001b[39;00m\n\u001b[0;32m    192\u001b[0m \u001b[38;5;124;03mTorch-only function to approximately reconstruct a waveform from Mel-scale amplitudes.\u001b[39;00m\n\u001b[0;32m    193\u001b[0m \n\u001b[1;32m   (...)\u001b[0m\n\u001b[0;32m    198\u001b[0m \u001b[38;5;124;03m    waveform: (batch, samples)\u001b[39;00m\n\u001b[0;32m    199\u001b[0m \u001b[38;5;124;03m\"\"\"\u001b[39;00m\n\u001b[0;32m    200\u001b[0m \u001b[38;5;66;03m# Convert from mel scale to linear\u001b[39;00m\n\u001b[1;32m--> 201\u001b[0m amplitudes_linear \u001b[38;5;241m=\u001b[39m \u001b[38;5;28;43mself\u001b[39;49m\u001b[38;5;241;43m.\u001b[39;49m\u001b[43minverse_mel_scaler\u001b[49m\u001b[43m(\u001b[49m\u001b[43mamplitudes_mel\u001b[49m\u001b[43m)\u001b[49m\n\u001b[0;32m    203\u001b[0m \u001b[38;5;66;03m# Run the approximate algorithm to compute the phase and recover the waveform\u001b[39;00m\n\u001b[0;32m    204\u001b[0m \u001b[38;5;28;01mreturn\u001b[39;00m \u001b[38;5;28mself\u001b[39m\u001b[38;5;241m.\u001b[39minverse_spectrogram_func(amplitudes_linear)\n",
      "File \u001b[1;32m~\\anaconda3\\envs\\pytorch\\lib\\site-packages\\torch\\nn\\modules\\module.py:1501\u001b[0m, in \u001b[0;36mModule._call_impl\u001b[1;34m(self, *args, **kwargs)\u001b[0m\n\u001b[0;32m   1496\u001b[0m \u001b[38;5;66;03m# If we don't have any hooks, we want to skip the rest of the logic in\u001b[39;00m\n\u001b[0;32m   1497\u001b[0m \u001b[38;5;66;03m# this function, and just call forward.\u001b[39;00m\n\u001b[0;32m   1498\u001b[0m \u001b[38;5;28;01mif\u001b[39;00m \u001b[38;5;129;01mnot\u001b[39;00m (\u001b[38;5;28mself\u001b[39m\u001b[38;5;241m.\u001b[39m_backward_hooks \u001b[38;5;129;01mor\u001b[39;00m \u001b[38;5;28mself\u001b[39m\u001b[38;5;241m.\u001b[39m_backward_pre_hooks \u001b[38;5;129;01mor\u001b[39;00m \u001b[38;5;28mself\u001b[39m\u001b[38;5;241m.\u001b[39m_forward_hooks \u001b[38;5;129;01mor\u001b[39;00m \u001b[38;5;28mself\u001b[39m\u001b[38;5;241m.\u001b[39m_forward_pre_hooks\n\u001b[0;32m   1499\u001b[0m         \u001b[38;5;129;01mor\u001b[39;00m _global_backward_pre_hooks \u001b[38;5;129;01mor\u001b[39;00m _global_backward_hooks\n\u001b[0;32m   1500\u001b[0m         \u001b[38;5;129;01mor\u001b[39;00m _global_forward_hooks \u001b[38;5;129;01mor\u001b[39;00m _global_forward_pre_hooks):\n\u001b[1;32m-> 1501\u001b[0m     \u001b[38;5;28;01mreturn\u001b[39;00m forward_call(\u001b[38;5;241m*\u001b[39margs, \u001b[38;5;241m*\u001b[39m\u001b[38;5;241m*\u001b[39mkwargs)\n\u001b[0;32m   1502\u001b[0m \u001b[38;5;66;03m# Do not call functions when jit is used\u001b[39;00m\n\u001b[0;32m   1503\u001b[0m full_backward_hooks, non_full_backward_hooks \u001b[38;5;241m=\u001b[39m [], []\n",
      "File \u001b[1;32m~\\anaconda3\\envs\\pytorch\\lib\\site-packages\\torchaudio\\transforms\\_transforms.py:504\u001b[0m, in \u001b[0;36mInverseMelScale.forward\u001b[1;34m(self, melspec)\u001b[0m\n\u001b[0;32m    502\u001b[0m melspec \u001b[38;5;241m=\u001b[39m melspec\u001b[38;5;241m.\u001b[39mtranspose(\u001b[38;5;241m-\u001b[39m\u001b[38;5;241m1\u001b[39m, \u001b[38;5;241m-\u001b[39m\u001b[38;5;241m2\u001b[39m)\n\u001b[0;32m    503\u001b[0m \u001b[38;5;28;01mif\u001b[39;00m \u001b[38;5;28mself\u001b[39m\u001b[38;5;241m.\u001b[39mn_mels \u001b[38;5;241m!=\u001b[39m n_mels:\n\u001b[1;32m--> 504\u001b[0m     \u001b[38;5;28;01mraise\u001b[39;00m \u001b[38;5;167;01mValueError\u001b[39;00m(\u001b[38;5;124m\"\u001b[39m\u001b[38;5;124mExpected an input with \u001b[39m\u001b[38;5;132;01m{}\u001b[39;00m\u001b[38;5;124m mel bins. Found: \u001b[39m\u001b[38;5;132;01m{}\u001b[39;00m\u001b[38;5;124m\"\u001b[39m\u001b[38;5;241m.\u001b[39mformat(\u001b[38;5;28mself\u001b[39m\u001b[38;5;241m.\u001b[39mn_mels, n_mels))\n\u001b[0;32m    506\u001b[0m specgram \u001b[38;5;241m=\u001b[39m torch\u001b[38;5;241m.\u001b[39mrand(\n\u001b[0;32m    507\u001b[0m     melspec\u001b[38;5;241m.\u001b[39msize()[\u001b[38;5;241m0\u001b[39m], time, freq, requires_grad\u001b[38;5;241m=\u001b[39m\u001b[38;5;28;01mTrue\u001b[39;00m, dtype\u001b[38;5;241m=\u001b[39mmelspec\u001b[38;5;241m.\u001b[39mdtype, device\u001b[38;5;241m=\u001b[39mmelspec\u001b[38;5;241m.\u001b[39mdevice\n\u001b[0;32m    508\u001b[0m )\n\u001b[0;32m    510\u001b[0m optim \u001b[38;5;241m=\u001b[39m torch\u001b[38;5;241m.\u001b[39moptim\u001b[38;5;241m.\u001b[39mSGD([specgram], \u001b[38;5;241m*\u001b[39m\u001b[38;5;241m*\u001b[39m\u001b[38;5;28mself\u001b[39m\u001b[38;5;241m.\u001b[39msgdargs)\n",
      "\u001b[1;31mValueError\u001b[0m: Expected an input with 32 mel bins. Found: 512"
     ]
    }
   ],
   "source": [
    "#@title Run with Colab interface\n",
    "prompt = \"solo piano\"#@param {type:\"string\"}\n",
    "negative_prompt = \"drums\"#@param {type:\"string\"}\n",
    "\n",
    "path, spec = predict(prompt, negative_prompt)\n",
    "\n",
    "display(spec)\n",
    "Audio('output.wav')"
   ]
  },
  {
   "cell_type": "code",
   "execution_count": 8,
   "metadata": {
    "id": "quqt3k234K4Q"
   },
   "outputs": [
    {
     "ename": "AttributeError",
     "evalue": "module 'gradio' has no attribute 'outputs'",
     "output_type": "error",
     "traceback": [
      "\u001b[1;31m---------------------------------------------------------------------------\u001b[0m",
      "\u001b[1;31mAttributeError\u001b[0m                            Traceback (most recent call last)",
      "Cell \u001b[1;32mIn[8], line 7\u001b[0m\n\u001b[0;32m      1\u001b[0m \u001b[38;5;66;03m#@title Run a Gradio demo\u001b[39;00m\n\u001b[0;32m      2\u001b[0m \u001b[38;5;28;01mimport\u001b[39;00m \u001b[38;5;21;01mgradio\u001b[39;00m \u001b[38;5;28;01mas\u001b[39;00m \u001b[38;5;21;01mgr\u001b[39;00m\n\u001b[0;32m      4\u001b[0m gr\u001b[38;5;241m.\u001b[39mInterface(\n\u001b[0;32m      5\u001b[0m     predict,\n\u001b[0;32m      6\u001b[0m     inputs\u001b[38;5;241m=\u001b[39m[\u001b[38;5;124m\"\u001b[39m\u001b[38;5;124mtext\u001b[39m\u001b[38;5;124m\"\u001b[39m, \u001b[38;5;124m\"\u001b[39m\u001b[38;5;124mtext\u001b[39m\u001b[38;5;124m\"\u001b[39m],\n\u001b[1;32m----> 7\u001b[0m     outputs\u001b[38;5;241m=\u001b[39m[\u001b[43mgr\u001b[49m\u001b[38;5;241;43m.\u001b[39;49m\u001b[43moutputs\u001b[49m\u001b[38;5;241m.\u001b[39mAudio(\u001b[38;5;28mtype\u001b[39m\u001b[38;5;241m=\u001b[39m\u001b[38;5;124m'\u001b[39m\u001b[38;5;124mfilepath\u001b[39m\u001b[38;5;124m'\u001b[39m), gr\u001b[38;5;241m.\u001b[39moutputs\u001b[38;5;241m.\u001b[39mImage(\u001b[38;5;28mtype\u001b[39m\u001b[38;5;241m=\u001b[39m\u001b[38;5;124m'\u001b[39m\u001b[38;5;124mpil\u001b[39m\u001b[38;5;124m'\u001b[39m)],\n\u001b[0;32m      8\u001b[0m     title\u001b[38;5;241m=\u001b[39m\u001b[38;5;124m\"\u001b[39m\u001b[38;5;124mRiffusion\u001b[39m\u001b[38;5;124m\"\u001b[39m,\n\u001b[0;32m      9\u001b[0m )\u001b[38;5;241m.\u001b[39mlaunch(share\u001b[38;5;241m=\u001b[39m\u001b[38;5;28;01mTrue\u001b[39;00m, debug\u001b[38;5;241m=\u001b[39m\u001b[38;5;28;01mTrue\u001b[39;00m)\n",
      "\u001b[1;31mAttributeError\u001b[0m: module 'gradio' has no attribute 'outputs'"
     ]
    }
   ],
   "source": [
    "#@title Run a Gradio demo\n",
    "import gradio as gr\n",
    "\n",
    "gr.Interface(\n",
    "    predict,\n",
    "    inputs=[\"text\", \"text\"],\n",
    "    outputs=[gr.outputs.Audio(type='filepath'), gr.outputs.Image(type='pil')],\n",
    "    title=\"Riffusion\",\n",
    ").launch(share=True, debug=True)"
   ]
  },
  {
   "cell_type": "code",
   "execution_count": null,
   "metadata": {
    "cellView": "form",
    "id": "PPgyFm7sG0pL"
   },
   "outputs": [],
   "source": [
    "#@title Upload your own files for style transfer\n",
    "#@markdown #### Drop your audio files (.wav is best) in Colab's file uploader, then type the filename below and run\n",
    "\n",
    "from google.colab import files\n",
    "# uploaded = files.upload()\n",
    "\n",
    "from scipy.io import wavfile\n",
    "import numpy as np\n",
    "from PIL import Image\n",
    "\n",
    "filename = \"rondo_alla_turca.wav\"#@param {type:\"string\"}\n",
    "\n",
    "# read uploaded file to wav\n",
    "rate, data = wavfile.read(f'../{filename}')\n",
    "\n",
    "# resample from 48000 to 44100\n",
    "# from scipy.signal import resample\n",
    "# data = resample(data, int(data.shape[0] * 44100 / 48000))\n",
    "\n",
    "# convert to mono\n",
    "data = np.mean(data, axis=1)\n",
    "\n",
    "# convert to float32\n",
    "data = data.astype(np.float32)\n",
    "\n",
    "# take a random 7 second slice of the audio\n",
    "data = data[rate*7:rate*14]\n",
    "\n",
    "spectrogram = spectrogram_from_waveform(\n",
    "    waveform=data,\n",
    "    sample_rate=rate,\n",
    "    # width=768,\n",
    "    n_fft=8192,\n",
    "    hop_length=512,\n",
    "    win_length=8192,\n",
    ")\n",
    "\n",
    "def image_from_spectrogram(\n",
    "    spectrogram: np.ndarray, max_volume: float = 50, power_for_image: float = 0.25\n",
    ") -> Image.Image:\n",
    "    \"\"\"\n",
    "    Compute a spectrogram image from a spectrogram magnitude array.\n",
    "    \"\"\"\n",
    "    # Apply the power curve\n",
    "    data = np.power(spectrogram, power_for_image)\n",
    "\n",
    "    # Rescale to 0-255\n",
    "    data = data * 255 / max_volume\n",
    "\n",
    "    # Invert\n",
    "    data = 255 - data\n",
    "\n",
    "    # Convert to a PIL image\n",
    "    image = Image.fromarray(data.astype(np.uint8))\n",
    "\n",
    "    # Flip Y\n",
    "    image = image.transpose(Image.FLIP_TOP_BOTTOM)\n",
    "\n",
    "    # Convert to RGB\n",
    "    image = image.convert(\"RGB\")\n",
    "\n",
    "    return image\n",
    "\n",
    "spec = image_from_spectrogram(spectrogram)\n",
    "# img.save('../rondo_alla_turca.png')\n",
    "# display(img)\n",
    "\n",
    "# Audio(data, rate=rate)\n",
    "\n",
    "# wav2 = wav_bytes_from_spectrogram_image(img)\n",
    "# with open(\"../inverse-spectro.wav\", \"wb\") as f:\n",
    "#     f.write(wav2[0].getbuffer())\n",
    "\n",
    "# Audio('../inverse-spectro.wav')"
   ]
  },
  {
   "cell_type": "code",
   "execution_count": null,
   "metadata": {
    "cellView": "form",
    "id": "lig6K2551XIP"
   },
   "outputs": [],
   "source": [
    "#@title Audio-to-audio based on the previous generated sound: define new pipeline\n",
    "\n",
    "import torch\n",
    "from diffusers import StableDiffusionImg2ImgPipeline\n",
    "\n",
    "# load the pipeline\n",
    "device = \"cuda\"\n",
    "MODEL_ID = \"riffusion/riffusion-model-v1\"\n",
    "pipe = StableDiffusionImg2ImgPipeline.from_pretrained(MODEL_ID, torch_dtype=torch.float16)\n",
    "\n",
    "pipe = pipe.to(device)"
   ]
  },
  {
   "cell_type": "markdown",
   "metadata": {
    "id": "c-TJZ4p219yK"
   },
   "source": [
    "#### NOTE: Colab doesn't have enough memory to simultaneously load both the base riffusion pipeline and the audio2audio pipeline. You'll need to re-run the first 'imports' cell if you want to run regular riffusion after instantiating the audio2audio pipeline in in this cell\n",
    "\n",
    "#### you can run the audio2audio inference cell (below) as many times as you like, though"
   ]
  },
  {
   "cell_type": "code",
   "execution_count": null,
   "metadata": {
    "id": "eDuHbPEo1hgp"
   },
   "outputs": [],
   "source": [
    "#@title Audio-to-audio: run inference\n",
    "prompt = \"epic orchestra symphony\" #@param {type:\"string\"}\n",
    "\n",
    "images = pipe(\n",
    "    prompt=prompt,\n",
    "    image=spec,\n",
    "    strength=0.5,\n",
    "    guidance_scale=7\n",
    ").images\n",
    "\n",
    "wav = converter.audio_from_spectrogram_image(images[0])\n",
    "wav.export('audio2audio.wav', format='wav')\n",
    "Audio('audio2audio.wav')"
   ]
  }
 ],
 "metadata": {
  "accelerator": "GPU",
  "colab": {
   "provenance": []
  },
  "gpuClass": "standard",
  "kernelspec": {
   "display_name": "Python 3 (ipykernel)",
   "language": "python",
   "name": "python3"
  },
  "language_info": {
   "codemirror_mode": {
    "name": "ipython",
    "version": 3
   },
   "file_extension": ".py",
   "mimetype": "text/x-python",
   "name": "python",
   "nbconvert_exporter": "python",
   "pygments_lexer": "ipython3",
   "version": "3.10.13"
  }
 },
 "nbformat": 4,
 "nbformat_minor": 4
}
